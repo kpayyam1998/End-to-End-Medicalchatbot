{
 "cells": [
  {
   "cell_type": "code",
   "execution_count": 14,
   "metadata": {},
   "outputs": [],
   "source": [
    "#Import\n",
    "import os\n",
    "from langchain.prompts import PromptTemplate\n",
    "from langchain.chains import RetrievalQA # this will make question and answering\n",
    "from langchain.embeddings import HuggingFaceEmbeddings\n",
    "from langchain.vectorstores import Pinecone\n",
    "import pinecone\n",
    "\n",
    "\n",
    "# I am going to import my PDF so i need to import DirectoryLoader\n",
    "from langchain.document_loaders import PyPDFLoader,DirectoryLoader\n",
    "\n",
    "# Corpus to Chunks\n",
    "from langchain.text_splitter import RecursiveCharacterTextSplitter\n",
    "\n",
    "\n",
    "# we are using quant size model so we have to import ctransformer\n",
    "from langchain.llms import CTransformers"
   ]
  },
  {
   "cell_type": "code",
   "execution_count": 9,
   "metadata": {},
   "outputs": [],
   "source": [
    "key=os.getenv(\"PINECONE_API_KEY\")"
   ]
  },
  {
   "cell_type": "code",
   "execution_count": 11,
   "metadata": {},
   "outputs": [],
   "source": [
    "# Dont use mine because i will delete it after completion of my project\n",
    "PINECONE_API_KEY=\"1a0b20f7-7500-40fe-823a-dbdb343f593f\"\n",
    "PINECONE_API_ENV=\"gcp-starter\""
   ]
  },
  {
   "cell_type": "markdown",
   "metadata": {},
   "source": [
    "# Load PDF"
   ]
  },
  {
   "cell_type": "code",
   "execution_count": 15,
   "metadata": {},
   "outputs": [],
   "source": [
    "#load my pdf using Directory Loader\n",
    "def load_pdf(data):\n",
    "    loader=DirectoryLoader(data,\n",
    "                    glob=\"*.pdf\",\n",
    "                    loader_cls=PyPDFLoader)\n",
    "    documents=loader.load()\n",
    "    return documents\n"
   ]
  },
  {
   "cell_type": "code",
   "execution_count": 16,
   "metadata": {},
   "outputs": [],
   "source": [
    "extracted_data=load_pdf(\"Data/\") # this pdf has 600 above pages that why its taking time"
   ]
  },
  {
   "cell_type": "code",
   "execution_count": 20,
   "metadata": {},
   "outputs": [
    {
     "name": "stdout",
     "output_type": "stream",
     "text": [
      "right away. Switching to a different antimalarial drug may\n",
      "be an alternative and can allow the side effects to stop.\n",
      "Anyone taking antimalarial drugs to prevent malaria\n",
      "who develops a fever or flu-like symptoms while taking\n",
      "the medicine or within two to three months after travel-ing to an area where malaria is common should call aphysician immediately.\n",
      "If the medicine is being taken to treat malaria, and\n",
      "symptoms stay the same or get worse, check with thephysician who prescribed the medicine.\n",
      "Patients who take this medicine over a long time\n",
      "need to have a physician check them periodically forunwanted side effects.\n",
      "Babies and children are especially sensitive to the\n",
      "antimalarial drug chloroquine. Not only are they morelikely to have side effects from the medicine, but they arealso at greater risk of being harmed by an overdose. Asingle 300-mg tablet could kill a small child. Keep this\n",
      "medicine out of the reach of children. Use safety vials.\n",
      "Special conditions\n",
      "People with certain medical conditions or who are\n",
      "taking certain other medicines can have problems ifthey take antimalarial drugs. Before taking these drugs,be sure to let the physician know about any of theseconditions:\n",
      "ALLERGIES. Anyone who has had unusual reac-\n",
      "tions to antimalarial drugs or related medicines in thepast should let his or her physician know before takingthe drugs again. The physician should also be toldabout any allergies to foods, dyes, preservatives, or\n",
      "other substances.\n",
      "PREGNANCY. In laboratory animal studies, some\n",
      "antimalarial drugs cause birth defects . But it is also\n",
      "risky for a pregnant woman to get malaria. Untreatedmalaria can cause premature birth, stillbirth , and mis-\n",
      "carriage . When given in low doses to prevent malaria,\n",
      "antimalarial drugs have not been reported to cause birthdefects in humans. If possible, pregnant women shouldavoid traveling to areas where they could get malaria. Iftravel is necessary, women who are pregnant or who maybecome pregnant should check with their physiciansabout the use of antimalarial drugs.\n",
      "BREASTFEEDING. Some antimalarial drugs pass into\n",
      "breast milk. Although no problems have been reported innursing babies whose mothers took antimalarial drugs,babies and young children are particularly sensitive tosome of these drugs. Women who are breastfeedingshould check with their physicians before using anti-malarial drugs.OTHER MEDICAL CONDITIONS. Before using anti-\n",
      "malarial drugs, people who have any of these medicalproblems (or have had them in the past) should makesure their physicians are aware of their conditions:\n",
      "• blood disease\n",
      "• liver disease\n",
      "• nerve or brain disease or disorder, including seizures\n",
      "(convulsions)\n",
      "• past or current mental disorder\n",
      "• stomach or intestinal disease\n",
      "• deficiency of the enzyme glucose-6-phosphate dehy-\n",
      "drogenase (G6PD), which is important in the break-down of sugar in the body\n",
      "• deficiency of the enzyme nicotinamide adenine dinu-\n",
      "cleotide (NADH) methemoglobin reductase\n",
      "• psoriasis\n",
      "• heart disease• family or personal history of the genetic condition fav-\n",
      "ism (a hereditary allergic condition)\n",
      "• family or personal history of hemolytic anemia , a con-\n",
      "dition in which red blood cells are destroyed\n",
      "• purpura\n",
      "• hypoglycemia (low blood sugar)\n",
      "• blackwater fever (a serious complication of one type of\n",
      "malaria)\n",
      "• myasthenia gravis (a disease of the nerves and muscles)\n",
      "USE OF CERTAIN MEDICINES. Taking antimalarial\n",
      "drugs with certain other drugs may affect the way thedrugs work or may increase the chance of side effects.\n",
      "Side effects\n",
      "High doses of the antimalarial drug pyrimethamine\n",
      "may cause blood problems that caninterfere with healingand increase the risk of infection. People taking this drugshould be careful not to injure their gums when brushingor flossing their teeth or using toothpicks. If possible,dental work should be postponed until treatment is com-plete and the blood has returned to normal.\n",
      "The most common side effects of antimalarial drugs\n",
      "are diarrhea , nausea or vomiting, stomach cramps or\n",
      "pain , loss of appetite, headache ,itching , difficulty con-\n",
      "centrating, dizziness, lightheadedness, and sleep prob-lems. These problems usually go away as the bodyadjusts to the drug and do not require medical treatment.Less common side effects, such as hair loss or loss ofcolor in the hair; skin rash; or blue-black discoloration ofthe skin, fingernails, or inside of the mouth also may\n",
      "GALE ENCYCLOPEDIA OF MEDICINE 2 287Antimalarial drugsGEM - 0001 to 0432 - A  10/22/03 1:42 PM  Page 287\n"
     ]
    }
   ],
   "source": [
    "print(extracted_data[300].page_content)# i have printed the 300th pages"
   ]
  },
  {
   "cell_type": "code",
   "execution_count": null,
   "metadata": {},
   "outputs": [],
   "source": []
  }
 ],
 "metadata": {
  "kernelspec": {
   "display_name": "chatbot",
   "language": "python",
   "name": "python3"
  },
  "language_info": {
   "codemirror_mode": {
    "name": "ipython",
    "version": 3
   },
   "file_extension": ".py",
   "mimetype": "text/x-python",
   "name": "python",
   "nbconvert_exporter": "python",
   "pygments_lexer": "ipython3",
   "version": "3.8.19"
  }
 },
 "nbformat": 4,
 "nbformat_minor": 2
}
