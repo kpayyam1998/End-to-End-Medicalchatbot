{
 "cells": [
  {
   "cell_type": "code",
   "execution_count": 2,
   "metadata": {},
   "outputs": [
    {
     "name": "stderr",
     "output_type": "stream",
     "text": [
      "c:\\Users\\arung\\anaconda3\\envs\\chatbot\\lib\\site-packages\\pinecone\\data\\index.py:1: TqdmWarning: IProgress not found. Please update jupyter and ipywidgets. See https://ipywidgets.readthedocs.io/en/stable/user_install.html\n",
      "  from tqdm.autonotebook import tqdm\n"
     ]
    }
   ],
   "source": [
    "#Import\n",
    "import os\n",
    "from langchain.prompts import PromptTemplate\n",
    "from langchain.chains import RetrievalQA # this will make question and answering\n",
    "from langchain.embeddings import HuggingFaceEmbeddings\n",
    "from langchain.vectorstores import Pinecone\n",
    "import pinecone\n",
    "\n",
    "\n",
    "# I am going to import my PDF so i need to import DirectoryLoader\n",
    "from langchain.document_loaders import PyPDFLoader,DirectoryLoader\n",
    "\n",
    "# Corpus to Chunks\n",
    "from langchain.text_splitter import RecursiveCharacterTextSplitter\n",
    "\n",
    "\n",
    "# we are using quant size model so we have to import ctransformer\n",
    "from langchain.llms import CTransformers\n",
    "\n",
    "# Actually i am getting erro when i use CTransformer so i am going to use OpenAI=embeddiigng"
   ]
  },
  {
   "cell_type": "code",
   "execution_count": 3,
   "metadata": {},
   "outputs": [],
   "source": [
    "key=os.getenv(\"PINECONE_API_KEY\")"
   ]
  },
  {
   "cell_type": "code",
   "execution_count": 4,
   "metadata": {},
   "outputs": [],
   "source": [
    "# Dont use mine because i will delete it after completion of my project\n",
    "PINECONE_API_KEY=\"1a0b20f7-7500-40fe-823a-dbdb343f593f\"\n",
    "PINECONE_API_ENV=\"gcp-starter\""
   ]
  },
  {
   "cell_type": "markdown",
   "metadata": {},
   "source": [
    "# Load PDF"
   ]
  },
  {
   "cell_type": "code",
   "execution_count": 4,
   "metadata": {},
   "outputs": [],
   "source": [
    "# load my pdf using Directory Loader\n",
    "# We can load multiple pdf file also\n",
    "def load_pdf(data):\n",
    "    loader=DirectoryLoader(data,\n",
    "                    glob=\"*.pdf\",\n",
    "                    loader_cls=PyPDFLoader)\n",
    "    documents=loader.load()\n",
    "    return documents\n"
   ]
  },
  {
   "cell_type": "code",
   "execution_count": 5,
   "metadata": {},
   "outputs": [],
   "source": [
    "extracted_data=load_pdf(\"Data/\") # this pdf has 600 above pages that why its taking time"
   ]
  },
  {
   "cell_type": "code",
   "execution_count": 7,
   "metadata": {},
   "outputs": [],
   "source": [
    "#print(extracted_data[300].page_content)# i have printed the 300th pages"
   ]
  },
  {
   "cell_type": "markdown",
   "metadata": {},
   "source": [
    "# Load our and create text chunks\n",
    "*   corpus to text_chunks"
   ]
  },
  {
   "cell_type": "code",
   "execution_count": 6,
   "metadata": {},
   "outputs": [],
   "source": [
    "def text_split(extracted_data):\n",
    "    text_spilitter=RecursiveCharacterTextSplitter(chunk_size=500,chunk_overlap=20)\n",
    "    text_chunks=text_spilitter.split_documents(extracted_data)\n",
    "    return text_chunks\n",
    "\n",
    "text_chunks=text_split(extracted_data)\n"
   ]
  },
  {
   "cell_type": "code",
   "execution_count": 8,
   "metadata": {},
   "outputs": [
    {
     "name": "stdout",
     "output_type": "stream",
     "text": [
      "Length of the chunks: 7020\n"
     ]
    }
   ],
   "source": [
    "print(\"Length of the chunks:\",len(text_chunks))"
   ]
  },
  {
   "cell_type": "markdown",
   "metadata": {},
   "source": [
    "# Embedding"
   ]
  },
  {
   "cell_type": "code",
   "execution_count": 7,
   "metadata": {},
   "outputs": [],
   "source": [
    "# Now we are going to convert those 7020 chunks data to embedding and store vector DB \n",
    "\n",
    "# Download Embedding Model\n",
    "\n",
    "# Previous Section we used OpenAI embedding model \n",
    "\n",
    "# Here we will use HuggingFaceEmbedding\n",
    "def download_hugging_face_embedding(): # this func download the model huggingface itself\n",
    "    embeddings=HuggingFaceEmbeddings(model_name=\"sentence-transformers/all-MiniLM-L6-v2\") # Available in HF portal\n",
    "    return embeddings\n",
    "\n",
    "embeddings=download_hugging_face_embedding() \n",
    "#It got downloaded"
   ]
  },
  {
   "cell_type": "code",
   "execution_count": 10,
   "metadata": {},
   "outputs": [
    {
     "data": {
      "text/plain": [
       "HuggingFaceEmbeddings(client=SentenceTransformer(\n",
       "  (0): Transformer({'max_seq_length': 256, 'do_lower_case': False}) with Transformer model: BertModel \n",
       "  (1): Pooling({'word_embedding_dimension': 384, 'pooling_mode_cls_token': False, 'pooling_mode_mean_tokens': True, 'pooling_mode_max_tokens': False, 'pooling_mode_mean_sqrt_len_tokens': False})\n",
       "  (2): Normalize()\n",
       "), model_name='sentence-transformers/all-MiniLM-L6-v2', cache_folder=None, model_kwargs={}, encode_kwargs={}, multi_process=False, show_progress=False)"
      ]
     },
     "execution_count": 10,
     "metadata": {},
     "output_type": "execute_result"
    }
   ],
   "source": [
    "embeddings  # This embedding returns the 384 diementions"
   ]
  },
  {
   "cell_type": "code",
   "execution_count": 11,
   "metadata": {},
   "outputs": [
    {
     "name": "stdout",
     "output_type": "stream",
     "text": [
      "Length 384\n"
     ]
    }
   ],
   "source": [
    "query=embeddings.embed_query(\"My name is karuppas\")\n",
    "print(\"Length\",len(query))  # it return the 384 dienmentions\n",
    "#Text embeddings"
   ]
  },
  {
   "cell_type": "code",
   "execution_count": 5,
   "metadata": {},
   "outputs": [],
   "source": [
    "import pinecone\n",
    "\n",
    "pinecone.Pinecone(api_key=PINECONE_API_KEY)\n",
    "\n",
    "index_name=\"medical-chat\"\n",
    "\n",
    "host=\"https://medical-chat-5y3awdy.svc.gcp-starter.pinecone.io\"\n",
    "\n",
    "\n",
    "#docs_search=Pinecone.from_texts([t.page_content for t in text_chunks],embeddings,index_name=index_name)"
   ]
  },
  {
   "cell_type": "code",
   "execution_count": 6,
   "metadata": {},
   "outputs": [],
   "source": [
    "# https://python.langchain.com/docs/integrations/vectorstores/pinecone\n",
    "\n",
    "import pinecone\n",
    "\n",
    "pinecone.Pinecone(api_key=PINECONE_API_KEY)\n",
    "\n",
    "from langchain_pinecone.vectorstores import Pinecone\n",
    "\n",
    "vector_db=Pinecone.from_documents(text_chunks,embeddings,index_name=index_name)"
   ]
  },
  {
   "cell_type": "code",
   "execution_count": 17,
   "metadata": {},
   "outputs": [
    {
     "data": {
      "text/plain": [
       "[Document(page_content='• inflammation of the mouth ( stomatitis ) or tongue\\n(glossitis)\\n• insomnia\\n• irregular heartbeat\\n• loss of appetite\\n• nails that are dry, brittle, or ridged\\n• rapid breathing\\n• sores in the mouth, throat, or rectum\\n• sweating\\n• swelling of the hands and feet\\n• thirst\\n• tinnitus (ringing in the ears)\\n• unexplained bleeding or bruising\\nIn pernicious anemia, the tongue feels unusually\\nslick. A patient with pernicious anemia may have:', metadata={'page': 195.0, 'source': 'Data\\\\Medical_book.pdf'}),\n",
       " Document(page_content='usually develop symptoms of deficiency between thesecond and fourth month of life. They are pale, restless,unable to sleep, prone to diarrhea, and have musclewasting and edema in their arms and legs. They have acharacteristic, sometimes silent, cry and develop heartfailure and nerve damage.\\nDiagnosis\\nA physical examination will reveal many of the', metadata={'page': 483.0, 'source': 'Data\\\\Medical_book.pdf'})]"
      ]
     },
     "execution_count": 17,
     "metadata": {},
     "output_type": "execute_result"
    }
   ],
   "source": [
    "vector_db.similarity_search(\"alergy symtoms\",k=2)"
   ]
  },
  {
   "cell_type": "code",
   "execution_count": 8,
   "metadata": {},
   "outputs": [],
   "source": [
    "vector_db=Pinecone.from_existing_index(index_name,embeddings)"
   ]
  },
  {
   "cell_type": "code",
   "execution_count": 9,
   "metadata": {},
   "outputs": [],
   "source": [
    "from langchain.llms import OpenAI\n",
    "\n"
   ]
  },
  {
   "cell_type": "code",
   "execution_count": 11,
   "metadata": {},
   "outputs": [],
   "source": [
    "retriever=vector_db.as_retriever(search_kwargs={'k':2})"
   ]
  },
  {
   "cell_type": "code",
   "execution_count": 1,
   "metadata": {},
   "outputs": [
    {
     "ename": "NameError",
     "evalue": "name 'RetrievalQA' is not defined",
     "output_type": "error",
     "traceback": [
      "\u001b[1;31m---------------------------------------------------------------------------\u001b[0m",
      "\u001b[1;31mNameError\u001b[0m                                 Traceback (most recent call last)",
      "Cell \u001b[1;32mIn[1], line 1\u001b[0m\n\u001b[1;32m----> 1\u001b[0m openai_retriever\u001b[38;5;241m=\u001b[39m\u001b[43mRetrievalQA\u001b[49m\u001b[38;5;241m.\u001b[39mfrom_chain_type(llm\u001b[38;5;241m=\u001b[39mOpenAI(),chain_type\u001b[38;5;241m=\u001b[39m\u001b[38;5;124m\"\u001b[39m\u001b[38;5;124mstuff\u001b[39m\u001b[38;5;124m\"\u001b[39m,retriever\u001b[38;5;241m=\u001b[39mretriever)\n",
      "\u001b[1;31mNameError\u001b[0m: name 'RetrievalQA' is not defined"
     ]
    }
   ],
   "source": [
    "openai_retriever=RetrievalQA.from_chain_type(llm=OpenAI(),chain_type=\"stuff\",retriever=retriever)"
   ]
  },
  {
   "cell_type": "code",
   "execution_count": 13,
   "metadata": {},
   "outputs": [
    {
     "name": "stderr",
     "output_type": "stream",
     "text": [
      "c:\\Users\\arung\\anaconda3\\envs\\chatbot\\lib\\site-packages\\langchain_core\\_api\\deprecation.py:117: LangChainDeprecationWarning: The function `run` was deprecated in LangChain 0.1.0 and will be removed in 0.2.0. Use invoke instead.\n",
      "  warn_deprecated(\n"
     ]
    },
    {
     "data": {
      "text/plain": [
       "\" Allergies are a response by the body's immune system to a foreign substance, called an allergen, that triggers an abnormal reaction. This reaction can cause symptoms such as sneezing, itching, and swelling.\""
      ]
     },
     "execution_count": 13,
     "metadata": {},
     "output_type": "execute_result"
    }
   ],
   "source": [
    "qa.run(\"What are allergies\")"
   ]
  },
  {
   "cell_type": "code",
   "execution_count": 14,
   "metadata": {},
   "outputs": [],
   "source": [
    "llm=CTransformers(model=\"Models/llama-2-7b-chat.ggmlv3.q4_0.bin\",\n",
    "              model_type=\"llama\",\n",
    "              config={\n",
    "                  'max_new_tokens':512,\n",
    "                  'temperature':0.8\n",
    "              })"
   ]
  },
  {
   "cell_type": "code",
   "execution_count": 17,
   "metadata": {},
   "outputs": [],
   "source": [
    "ha=RetrievalQA.from_chain_type(llm=llm,chain_type=\"stuff\",retriever=retriever)"
   ]
  },
  {
   "cell_type": "code",
   "execution_count": 18,
   "metadata": {},
   "outputs": [
    {
     "data": {
      "text/plain": [
       "\" Allergies are an abnormal reaction to a substance, such as pollen, dust, animal fur, or food. The body's immune system mistakenly identifies the harmless substance as a threat and attempts to fight it off, resulting in an allergic reaction. Common symptoms of allergies include sneezing, runny nose, itchy eyes, and skin rashes. In severe cases, allergies can cause anaphylaxis, a life-threatening reaction that requires immediate medical attention.\""
      ]
     },
     "execution_count": 18,
     "metadata": {},
     "output_type": "execute_result"
    }
   ],
   "source": [
    "ha.run(\"What are allergies\")"
   ]
  },
  {
   "cell_type": "code",
   "execution_count": 25,
   "metadata": {},
   "outputs": [
    {
     "data": {
      "text/plain": [
       "\" Allergies are an abnormal response to a substance that is typically harmless, and it is often caused by the body's immune system producing antibodies called IgE. These antibodies attach to mast cells, which release histamine and other chemicals into the bloodstream, leading to allergic symptoms such as sneezing, runny nose, and itchy eyes. Common allergens include pollen, dust mites, pet dander, and certain foods like peanuts, fish, and shellfish.\""
      ]
     },
     "execution_count": 25,
     "metadata": {},
     "output_type": "execute_result"
    }
   ],
   "source": [
    "ha.run(\"What are allergies\")"
   ]
  },
  {
   "cell_type": "markdown",
   "metadata": {},
   "source": [
    "# Prompt"
   ]
  },
  {
   "cell_type": "code",
   "execution_count": 19,
   "metadata": {},
   "outputs": [],
   "source": [
    "\n",
    "\n",
    "prompt_template=\"\"\" \n",
    "Use the following pieces of information to answer the user's question.\n",
    "If you don't know the answer, just say that you don't know, don't try to make up an answer.\n",
    "\n",
    "Context:{context}\n",
    "Question:{question}\n",
    "\n",
    "Only return the helpfull answer below and nothing else\n",
    "\n",
    "Helpful answer\n",
    "\n",
    "\"\"\""
   ]
  },
  {
   "cell_type": "code",
   "execution_count": 20,
   "metadata": {},
   "outputs": [],
   "source": [
    "PROMPT=PromptTemplate(input_variables=[\"context\",\"question\"],template=prompt_template)\n",
    "chain_type_kwargs={\"prompt\":PROMPT}"
   ]
  },
  {
   "cell_type": "markdown",
   "metadata": {},
   "source": [
    "# Create Question and answering Object\n",
    "* Refer this website\n",
    "<a>https://stackoverflow.com/questions/76916636/langchain-chains-not-using-pinecone-vectorstore</a>"
   ]
  },
  {
   "cell_type": "markdown",
   "metadata": {},
   "source": [
    "* LLM model \n",
    "* docs_search which is nothing but its knowledge base where we have all the data n vector format\n",
    "* other arguments"
   ]
  },
  {
   "cell_type": "code",
   "execution_count": 21,
   "metadata": {},
   "outputs": [],
   "source": [
    "qa=RetrievalQA.from_chain_type(\n",
    "    llm=llm, \n",
    "    chain_type=\"stuff\", \n",
    "    retriever=retriever,\n",
    "    return_source_documents=True, \n",
    "    chain_type_kwargs=chain_type_kwargs)"
   ]
  },
  {
   "cell_type": "code",
   "execution_count": 22,
   "metadata": {},
   "outputs": [],
   "source": [
    "while True:\n",
    "    user_input=input(f\"Input Prompt:\")\n",
    "    result=qa({\"query\": user_input})\n",
    "    print(\"Response : \", result[\"result\"])"
   ]
  },
  {
   "cell_type": "code",
   "execution_count": null,
   "metadata": {},
   "outputs": [],
   "source": []
  },
  {
   "cell_type": "code",
   "execution_count": null,
   "metadata": {},
   "outputs": [],
   "source": []
  }
 ],
 "metadata": {
  "kernelspec": {
   "display_name": "chatbot",
   "language": "python",
   "name": "python3"
  },
  "language_info": {
   "codemirror_mode": {
    "name": "ipython",
    "version": 3
   },
   "file_extension": ".py",
   "mimetype": "text/x-python",
   "name": "python",
   "nbconvert_exporter": "python",
   "pygments_lexer": "ipython3",
   "version": "3.8.19"
  }
 },
 "nbformat": 4,
 "nbformat_minor": 2
}
